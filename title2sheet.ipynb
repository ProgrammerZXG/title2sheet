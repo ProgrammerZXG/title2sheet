{
 "cells": [
  {
   "cell_type": "code",
   "execution_count": 33,
   "metadata": {},
   "outputs": [
    {
     "name": "stdout",
     "output_type": "stream",
     "text": [
      "53\n",
      "59\n"
     ]
    }
   ],
   "source": [
    "import openpyxl\n",
    "\n",
    "title_path = 'test .xlsx'\n",
    "title_col = 'E'\n",
    "start_row = 1\n",
    "\n",
    "start_sheet = 3\n",
    "merge_range = 'B1:AL1'\n",
    "tar_path = 'test.xlsx'\n",
    "save_path = 'test_updatexlsx'\n",
    "\n",
    "# 读取包含标题信息的 Excel 文件\n",
    "header_file = title_path\n",
    "header_wb = openpyxl.load_workbook(header_file)\n",
    "header_ws = header_wb.active\n",
    "\n",
    "# 获取标题信息，假设标题在 E 列\n",
    "headers = [header_ws[f'{title_col}{i}'].value for i in range(1, header_ws.max_row + 1)][start_row:]\n",
    "\n",
    "# 读取目标文件\n",
    "target_file = tar_path\n",
    "target_wb = openpyxl.load_workbook(target_file)\n",
    "\n",
    "# 获取目标文件中的工作表\n",
    "target_sheets = target_wb.sheetnames[start_sheet:]\n",
    "# 遍历每个工作表，为其插入标题\n",
    "for i, sheet_name in enumerate(target_sheets):\n",
    "    if i >= len(headers):\n",
    "        continue\n",
    "        \n",
    "    sheet = target_wb[sheet_name]\n",
    "    \n",
    "    # 获取需要取消合并的范围列表\n",
    "    ranges_to_unmerge = []\n",
    "    for merged_range in sheet.merged_cells.ranges:\n",
    "        if \"B1\" in str(merged_range) or \"AL1\" in str(merged_range):\n",
    "            ranges_to_unmerge.append(str(merged_range))\n",
    "    \n",
    "    # 执行取消合并操作\n",
    "    for range_str in ranges_to_unmerge:\n",
    "        sheet.unmerge_cells(range_str)\n",
    "    \n",
    "    # 执行新的合并\n",
    "    sheet.merge_cells(merge_range)\n",
    "    \n",
    "    # 写入标题并设置格式\n",
    "    sheet.cell(row=1, column=2, value=str(headers[i]))  # B列是第2列\n",
    "    sheet.cell(row=1, column=2).alignment = openpyxl.styles.Alignment(horizontal='center')\n",
    "\n",
    "# 保存更新后的文件\n",
    "target_wb.save(save_path)"
   ]
  },
  {
   "cell_type": "code",
   "execution_count": null,
   "metadata": {},
   "outputs": [],
   "source": []
  }
 ],
 "metadata": {
  "kernelspec": {
   "display_name": "env_name",
   "language": "python",
   "name": "python3"
  },
  "language_info": {
   "codemirror_mode": {
    "name": "ipython",
    "version": 3
   },
   "file_extension": ".py",
   "mimetype": "text/x-python",
   "name": "python",
   "nbconvert_exporter": "python",
   "pygments_lexer": "ipython3",
   "version": "3.9.18"
  }
 },
 "nbformat": 4,
 "nbformat_minor": 2
}
